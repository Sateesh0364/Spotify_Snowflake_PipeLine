{
 "cells": [
  {
   "cell_type": "code",
   "execution_count": null,
   "metadata": {},
   "outputs": [],
   "source": [
    "pip install spotipy"
   ]
  },
  {
   "cell_type": "code",
   "execution_count": null,
   "metadata": {},
   "outputs": [],
   "source": [
    "pip install pandas"
   ]
  },
  {
   "cell_type": "code",
   "execution_count": null,
   "metadata": {},
   "outputs": [],
   "source": [
    "import spotipy\n",
    "from spotipy.oauth2 import SpotifyClientCredentials\n",
    "import pandas as pd"
   ]
  },
  {
   "cell_type": "code",
   "execution_count": null,
   "metadata": {},
   "outputs": [],
   "source": [
    "client_credentials_manager=SpotifyClientCredentials(client_id=\"<client_id>\",\n",
    "                                                    client_secret=\"<secret_key>\")"
   ]
  },
  {
   "cell_type": "code",
   "execution_count": null,
   "metadata": {},
   "outputs": [],
   "source": [
    "sp=spotipy.Spotify(client_credentials_manager=client_credentials_manager)"
   ]
  },
  {
   "cell_type": "code",
   "execution_count": null,
   "metadata": {},
   "outputs": [],
   "source": [
    "playlist_link=\"https://open.spotify.com/playlist/37i9dQZEVXbNG2KDcFcKOF\""
   ]
  },
  {
   "cell_type": "code",
   "execution_count": null,
   "metadata": {},
   "outputs": [],
   "source": [
    "playlist_URI=playlist_link.split(\"/\")[-1]"
   ]
  },
  {
   "cell_type": "code",
   "execution_count": null,
   "metadata": {},
   "outputs": [],
   "source": [
    "data=sp.playlist_tracks(playlist_URI)"
   ]
  },
  {
   "cell_type": "code",
   "execution_count": null,
   "metadata": {},
   "outputs": [],
   "source": [
    "data['items'][0]['track']['album']['id']"
   ]
  },
  {
   "cell_type": "code",
   "execution_count": null,
   "metadata": {},
   "outputs": [],
   "source": [
    "data['items'][0]['track']['album']['name']"
   ]
  },
  {
   "cell_type": "code",
   "execution_count": null,
   "metadata": {},
   "outputs": [],
   "source": [
    "data['items'][0]['track']['album']['release_date']"
   ]
  },
  {
   "cell_type": "code",
   "execution_count": null,
   "metadata": {},
   "outputs": [],
   "source": [
    "data['items'][0]['track']['album']['total_tracks']"
   ]
  },
  {
   "cell_type": "code",
   "execution_count": null,
   "metadata": {},
   "outputs": [],
   "source": [
    "data['items'][0]['track']['album']['external_urls']['spotify']"
   ]
  },
  {
   "cell_type": "code",
   "execution_count": null,
   "metadata": {},
   "outputs": [],
   "source": [
    "album_list=[]\n",
    "for row in data['items']:\n",
    "    album_id=row['track']['album']['id']\n",
    "    album_name=row['track']['album']['name']\n",
    "    album_release_date=row['track']['album']['release_date']\n",
    "    album_total_tracks=row['track']['album']['total_tracks']\n",
    "    album_url=row['track']['album']['external_urls']['spotify']\n",
    "    album_element={'album_id':album_id,'album_name':album_name,\n",
    "                  'album_release_date':album_release_date,\n",
    "                  'album_total_tracks':album_total_tracks,'album_url':album_url}\n",
    "    album_list.append(album_element)"
   ]
  },
  {
   "cell_type": "code",
   "execution_count": null,
   "metadata": {},
   "outputs": [],
   "source": [
    "#data['items']#[0]['track']['artists'][0]['id']\n",
    "artist_list=[]\n",
    "for row in data['items']:\n",
    "    for key,value in row.items():\n",
    "        if key==\"track\":\n",
    "            for artist in value['artists']:\n",
    "                artist_dict={'artist_id':artist['id'], 'artist_name':artist['name'], \n",
    "                 'external_url':artist['href'],}\n",
    "                artist_list.append(artist_dict)\n",
    "print(artist_list)           "
   ]
  },
  {
   "cell_type": "code",
   "execution_count": null,
   "metadata": {},
   "outputs": [],
   "source": [
    "song_list = []\n",
    "for row in data['items']:\n",
    "    song_id = row['track']['id']\n",
    "    song_name = row['track']['name']\n",
    "    song_duration = row['track']['duration_ms']\n",
    "    song_url = row['track']['external_urls']['spotify']\n",
    "    song_popularity = row['track']['popularity']\n",
    "    song_added = row['added_at']\n",
    "    album_id = row['track']['album']['id']\n",
    "    artist_id = row['track']['album']['artists'][0]['id']\n",
    "    song_element = {'song_id':song_id,'song_name':song_name,'duration_ms':song_duration,\n",
    "                    'url':song_url,'popularity':song_popularity,'song_added':song_added,\n",
    "                    'album_id':album_id,'artist_id':artist_id}\n",
    "    song_list.append(song_element)"
   ]
  },
  {
   "cell_type": "code",
   "execution_count": null,
   "metadata": {},
   "outputs": [],
   "source": [
    "#album data frame\n",
    "album_df = pd.DataFrame.from_dict(album_list)"
   ]
  },
  {
   "cell_type": "code",
   "execution_count": null,
   "metadata": {},
   "outputs": [],
   "source": [
    "#result of table\n",
    "album_df.head()"
   ]
  },
  {
   "cell_type": "code",
   "execution_count": null,
   "metadata": {},
   "outputs": [],
   "source": [
    "#we get info\n",
    "album_df.info()"
   ]
  },
  {
   "cell_type": "code",
   "execution_count": null,
   "metadata": {},
   "outputs": [],
   "source": [
    "#to remove duplicates if anything comes, here album id is unique so it is PK\n",
    "album_df = album_df.drop_duplicates(subset=['album_id'])"
   ]
  },
  {
   "cell_type": "code",
   "execution_count": null,
   "metadata": {},
   "outputs": [],
   "source": [
    "#artist data frame\n",
    "artist_df = pd.DataFrame.from_dict(artist_list)"
   ]
  },
  {
   "cell_type": "code",
   "execution_count": null,
   "metadata": {},
   "outputs": [],
   "source": [
    "#to remove duplicates if anything comes, here album id is unique so it is PK\n",
    "artist_df = artist_df.drop_duplicates(subset=['artist_id'])"
   ]
  },
  {
   "cell_type": "code",
   "execution_count": null,
   "metadata": {},
   "outputs": [],
   "source": [
    "#Song Dataframe\n",
    "song_df = pd.DataFrame.from_dict(song_list)"
   ]
  },
  {
   "cell_type": "code",
   "execution_count": null,
   "metadata": {},
   "outputs": [],
   "source": [
    "#view data\n",
    "song_df.head()"
   ]
  },
  {
   "cell_type": "code",
   "execution_count": 37,
   "metadata": {},
   "outputs": [
    {
     "data": {
      "text/html": [
       "<div>\n",
       "<style scoped>\n",
       "    .dataframe tbody tr th:only-of-type {\n",
       "        vertical-align: middle;\n",
       "    }\n",
       "\n",
       "    .dataframe tbody tr th {\n",
       "        vertical-align: top;\n",
       "    }\n",
       "\n",
       "    .dataframe thead th {\n",
       "        text-align: right;\n",
       "    }\n",
       "</style>\n",
       "<table border=\"1\" class=\"dataframe\">\n",
       "  <thead>\n",
       "    <tr style=\"text-align: right;\">\n",
       "      <th></th>\n",
       "      <th>artist_id</th>\n",
       "      <th>artist_name</th>\n",
       "      <th>external_url</th>\n",
       "    </tr>\n",
       "  </thead>\n",
       "  <tbody>\n",
       "    <tr>\n",
       "      <th>0</th>\n",
       "      <td>1oSPZhvZMIrWW5I41kPkkY</td>\n",
       "      <td>Jimin</td>\n",
       "      <td>https://api.spotify.com/v1/artists/1oSPZhvZMIr...</td>\n",
       "    </tr>\n",
       "    <tr>\n",
       "      <th>1</th>\n",
       "      <td>6qqNVTkY8uBg9cP3Jd7DAH</td>\n",
       "      <td>Billie Eilish</td>\n",
       "      <td>https://api.spotify.com/v1/artists/6qqNVTkY8uB...</td>\n",
       "    </tr>\n",
       "    <tr>\n",
       "      <th>2</th>\n",
       "      <td>74KM79TiuVKeVCqs8QtB0B</td>\n",
       "      <td>Sabrina Carpenter</td>\n",
       "      <td>https://api.spotify.com/v1/artists/74KM79TiuVK...</td>\n",
       "    </tr>\n",
       "    <tr>\n",
       "      <th>4</th>\n",
       "      <td>2YZyLoL8N0Wb9xBt1NhZWg</td>\n",
       "      <td>Kendrick Lamar</td>\n",
       "      <td>https://api.spotify.com/v1/artists/2YZyLoL8N0W...</td>\n",
       "    </tr>\n",
       "    <tr>\n",
       "      <th>5</th>\n",
       "      <td>7CvTknweLr9feJtRGrpDBy</td>\n",
       "      <td>FloyyMenor</td>\n",
       "      <td>https://api.spotify.com/v1/artists/7CvTknweLr9...</td>\n",
       "    </tr>\n",
       "  </tbody>\n",
       "</table>\n",
       "</div>"
      ],
      "text/plain": [
       "                artist_id        artist_name  \\\n",
       "0  1oSPZhvZMIrWW5I41kPkkY              Jimin   \n",
       "1  6qqNVTkY8uBg9cP3Jd7DAH      Billie Eilish   \n",
       "2  74KM79TiuVKeVCqs8QtB0B  Sabrina Carpenter   \n",
       "4  2YZyLoL8N0Wb9xBt1NhZWg     Kendrick Lamar   \n",
       "5  7CvTknweLr9feJtRGrpDBy         FloyyMenor   \n",
       "\n",
       "                                        external_url  \n",
       "0  https://api.spotify.com/v1/artists/1oSPZhvZMIr...  \n",
       "1  https://api.spotify.com/v1/artists/6qqNVTkY8uB...  \n",
       "2  https://api.spotify.com/v1/artists/74KM79TiuVK...  \n",
       "4  https://api.spotify.com/v1/artists/2YZyLoL8N0W...  \n",
       "5  https://api.spotify.com/v1/artists/7CvTknweLr9...  "
      ]
     },
     "execution_count": 37,
     "metadata": {},
     "output_type": "execute_result"
    }
   ],
   "source": [
    "artist_df.head()"
   ]
  },
  {
   "cell_type": "code",
   "execution_count": null,
   "metadata": {},
   "outputs": [],
   "source": [
    "album_df.head()"
   ]
  },
  {
   "cell_type": "code",
   "execution_count": null,
   "metadata": {},
   "outputs": [],
   "source": [
    "#change data type to datetime\n",
    "album_df['album_release_date'] = pd.to_datetime(album_df['album_release_date'])"
   ]
  },
  {
   "cell_type": "code",
   "execution_count": null,
   "metadata": {},
   "outputs": [],
   "source": [
    "#change data type to datetime\n",
    "song_df['song_added'] =  pd.to_datetime(song_df['song_added'])"
   ]
  },
  {
   "cell_type": "code",
   "execution_count": null,
   "metadata": {},
   "outputs": [],
   "source": [
    "song_df.info()"
   ]
  }
 ],
 "metadata": {
  "kernelspec": {
   "display_name": "Python 3",
   "language": "python",
   "name": "python3"
  },
  "language_info": {
   "codemirror_mode": {
    "name": "ipython",
    "version": 3
   },
   "file_extension": ".py",
   "mimetype": "text/x-python",
   "name": "python",
   "nbconvert_exporter": "python",
   "pygments_lexer": "ipython3",
   "version": "3.11.9"
  }
 },
 "nbformat": 4,
 "nbformat_minor": 2
}
